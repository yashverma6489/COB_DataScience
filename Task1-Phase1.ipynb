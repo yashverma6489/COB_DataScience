{
  "nbformat": 4,
  "nbformat_minor": 0,
  "metadata": {
    "colab": {
      "provenance": []
    },
    "kernelspec": {
      "name": "python3",
      "display_name": "Python 3"
    },
    "language_info": {
      "name": "python"
    }
  },
  "cells": [
    {
      "cell_type": "code",
      "source": [
        "import requests\n",
        "import pandas as pd\n",
        "\n",
        "\n",
        "api_url = \"https://data.binance.com/api/v3/ticker/24hr\"\n",
        "\n",
        "\n",
        "response = requests.get(api_url)\n",
        "\n",
        "\n",
        "if response.status_code == 200:\n",
        "    data = response.json()\n",
        "    df = pd.DataFrame(data)\n",
        "    csv_file_name = \"abc.csv\"\n",
        "    df.to_csv(csv_file_name, index=False)\n",
        "\n",
        "    print(f\"Data has been successfully saved to {csv_file_name}\")\n",
        "else:\n",
        "    print(\"Failed to retrieve data from the API\")\n",
        "\n"
      ],
      "metadata": {
        "colab": {
          "base_uri": "https://localhost:8080/"
        },
        "id": "wDTR4CAEUAZW",
        "outputId": "26ea17b7-3b59-4567-cdab-cdf3327bacaf"
      },
      "execution_count": 6,
      "outputs": [
        {
          "output_type": "stream",
          "name": "stdout",
          "text": [
            "Data has been successfully saved to abc.csv\n"
          ]
        }
      ]
    }
  ]
}